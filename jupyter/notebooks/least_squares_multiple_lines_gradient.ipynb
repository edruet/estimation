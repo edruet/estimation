{
 "cells": [
  {
   "cell_type": "code",
   "execution_count": 91,
   "metadata": {},
   "outputs": [],
   "source": [
    "import numpy as np\n",
    "import tensorflow as tf\n",
    "from matplotlib import pyplot as plt"
   ]
  },
  {
   "cell_type": "code",
   "execution_count": 92,
   "metadata": {},
   "outputs": [],
   "source": [
    "# Parameters of the problem\n",
    "# The model that will be used is y(x) = s1 + ln(1 + exp((s2 - s1) + s3 * x))\n",
    "# The data will be generated with a (decreasing) line followed by a constant value (modeloffset)\n",
    "linerate = -2             # An artificial model y = linerate * x + modeloffset is used to generate data\n",
    "modeloffset = 53          # See here above\n",
    "noiselevel = 2            # standard deviation of the noise applied to the observed values\n",
    "XMIN = -10                # Minimum value for input value\n",
    "XMAX = 40                 # Maximum value for input value\n",
    "YMIN = 7                  # Minimum observed value\n",
    "YMAX = 80                 # Maximum observed value\n",
    "N = XMAX - XMIN + 1       # Number of samples\n",
    "seedinit = 1              # Initialization value for random generation\n",
    "alpha = 0.05              # Multiplier for the gradient algorithm\n",
    "NLOOPS = 10000             # Number of iterations for the optimization algorithm\n",
    "NVIEWS = 20               # Number of printed lines during optimization (for debugging)"
   ]
  },
  {
   "cell_type": "code",
   "execution_count": 93,
   "metadata": {},
   "outputs": [],
   "source": [
    "xin = np.arange(XMIN,XMAX+1,1,dtype=float).reshape(N, 1) # Generating the input values\n",
    "Ain = np.concatenate((np.ones((N,1),dtype=float), xin), axis=1) # Building the matrix: A x = y for the expected values\n",
    "np.random.seed(seedinit) # Initializing the generator the control the reproducibility of the test\n",
    "yin = linerate * xin + modeloffset # Generating observed values\n",
    "yin = np.where(yin < YMIN, YMIN, yin) + noiselevel * (np.random.randn(N,1) - 0.5)"
   ]
  },
  {
   "cell_type": "code",
   "execution_count": 94,
   "metadata": {},
   "outputs": [],
   "source": [
    "x = tf.placeholder(tf.float32, shape=(N,1)) # Placeholder for the inputs\n",
    "y = tf.placeholder(tf.float32, shape=(N,1)) # Placeholder for the observed values\n",
    "#s = tf.Variable([[YMIN],[modeloffset],[linerate]], dtype=tf.float32) # Case with squared_difference \n",
    "                                                                      # (converges only with good initial values)\n",
    "s = tf.Variable(tf.zeros([3, 1]), dtype=tf.float32) # Works (with a lot of iterations and alpha = 0.05 for median estimation)\n",
    "ys = s[0][0] + tf.log(1 + tf.exp((s[1][0] - s[0][0]) + s[2][0] * x))\n",
    "#cost_function = tf.reduce_mean(tf.squared_difference(ys, y)) # OK with good initial values and alpha = 0.01\n",
    "cost_function = tf.reduce_mean(tf.abs(ys - y)) # Absolute values <=> median estimation\n",
    "train_step = tf.train.GradientDescentOptimizer(alpha).minimize(cost_function)"
   ]
  },
  {
   "cell_type": "code",
   "execution_count": 95,
   "metadata": {},
   "outputs": [
    {
     "name": "stdout",
     "output_type": "stream",
     "text": [
      "step: 0, cost:25.803238, s:[0.025 0.025 0.375]\n",
      "step: 500, cost:14.111216, s:[ 7.977  5.737 -7.755]\n",
      "step: 1000, cost:13.665284, s:[10.246  7.694 -8.023]\n",
      "step: 1500, cost:13.508095, s:[10.615  9.617 -7.743]\n",
      "step: 2000, cost:13.328767, s:[10.616 11.712 -7.437]\n",
      "step: 2500, cost:13.115754, s:[10.617 13.996 -7.113]\n",
      "step: 3000, cost:12.8832855, s:[10.569 16.383 -6.783]\n",
      "step: 3500, cost:12.584779, s:[10.259 19.064 -6.397]\n",
      "step: 4000, cost:12.223967, s:[10.2   22.03  -5.964]\n",
      "step: 4500, cost:11.727214, s:[10.161 25.457 -5.199]\n",
      "step: 5000, cost:10.986544, s:[ 9.636 29.681 -4.664]\n",
      "step: 5500, cost:9.740974, s:[ 9.319 35.178 -3.989]\n",
      "step: 6000, cost:4.7614665, s:[ 8.415 43.637 -1.557]\n",
      "step: 6500, cost:1.6710263, s:[ 6.239 51.37  -1.905]\n",
      "step: 7000, cost:1.5409365, s:[ 6.239 51.431 -1.972]\n",
      "step: 7500, cost:1.540931, s:[ 6.239 51.431 -1.972]\n",
      "step: 8000, cost:1.5409659, s:[ 6.238 51.431 -1.972]\n",
      "step: 8500, cost:1.5409598, s:[ 6.238 51.431 -1.972]\n",
      "step: 9000, cost:1.540939, s:[ 6.24  51.431 -1.972]\n",
      "step: 9500, cost:1.5366786, s:[ 6.24  51.43  -1.975]\n",
      "step: 10000, cost:1.5409298, s:[ 6.24  51.431 -1.972]\n"
     ]
    }
   ],
   "source": [
    "init = tf.global_variables_initializer()\n",
    "sess = tf.Session()\n",
    "sess.run(init)\n",
    "np.set_printoptions(precision=3, suppress=True)\n",
    "for i in range(NLOOPS+1):\n",
    "    sess.run(train_step, feed_dict = {x:xin, y:yin})\n",
    "    sout, ysout, costout = sess.run([s, ys, cost_function], feed_dict = {x:xin, y:yin})\n",
    "    if (NVIEWS > 0) and ((i % int(NLOOPS/NVIEWS)) == 0):\n",
    "        print(\"step: \" + str(i) + \", cost:\" + str(costout) + \", s:\" + str(sout.reshape(3)))\n",
    "    #print(ysout)"
   ]
  },
  {
   "cell_type": "code",
   "execution_count": 90,
   "metadata": {},
   "outputs": [
    {
     "data": {
      "text/plain": [
       "[<matplotlib.lines.Line2D at 0x244f0333588>]"
      ]
     },
     "execution_count": 90,
     "metadata": {},
     "output_type": "execute_result"
    },
    {
     "data": {
      "image/png": "[encoded data removed]",
      "text/plain": [
       "<Figure size 864x648 with 1 Axes>"
      ]
     },
     "metadata": {},
     "output_type": "display_data"
    }
   ],
   "source": [
    "plt.figure(figsize=(12,9))\n",
    "plt.axis([XMIN, XMAX, 0, YMAX])\n",
    "plt.plot(xin, yin, 'b.')        # Displaying the samples used for fitting\n",
    "plt.plot(xin, ysout, 'g')"
   ]
  },
  {
   "cell_type": "code",
   "execution_count": null,
   "metadata": {},
   "outputs": [],
   "source": []
  }
 ],
 "metadata": {
  "kernelspec": {
   "display_name": "Python 3",
   "language": "python",
   "name": "python3"
  },
  "language_info": {
   "codemirror_mode": {
    "name": "ipython",
    "version": 3
   },
   "file_extension": ".py",
   "mimetype": "text/x-python",
   "name": "python",
   "nbconvert_exporter": "python",
   "pygments_lexer": "ipython3",
   "version": "3.9.0"
  }
 },
 "nbformat": 4,
 "nbformat_minor": 2
}
